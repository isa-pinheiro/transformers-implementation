{
  "nbformat": 4,
  "nbformat_minor": 0,
  "metadata": {
    "colab": {
      "provenance": [],
      "authorship_tag": "ABX9TyMMnA1jBRtmTj/SVs8Aqquc",
      "include_colab_link": true
    },
    "kernelspec": {
      "name": "python3",
      "display_name": "Python 3"
    },
    "language_info": {
      "name": "python"
    }
  },
  "cells": [
    {
      "cell_type": "markdown",
      "metadata": {
        "id": "view-in-github",
        "colab_type": "text"
      },
      "source": [
        "<a href=\"https://colab.research.google.com/github/isa-pinheiro/transformers-implementation/blob/main/transformers_implementation.ipynb\" target=\"_parent\"><img src=\"https://colab.research.google.com/assets/colab-badge.svg\" alt=\"Open In Colab\"/></a>"
      ]
    },
    {
      "cell_type": "code",
      "source": [
        "import torch\n",
        "import torch.nn as nn\n",
        "import numpy as np"
      ],
      "metadata": {
        "id": "Y9hF-hk6sSee"
      },
      "execution_count": 29,
      "outputs": []
    },
    {
      "cell_type": "markdown",
      "source": [
        "to implement\n",
        "1. encoder\n",
        "2. decoder\n",
        "\n",
        "details\n",
        "1. word embedding\n",
        "2. positional encoding\n",
        "3. multiheaded attention\n",
        "4. feed foward\n",
        "5. cross attention\n",
        "\n",
        "block\n",
        "1. multihead attention + add & norm\n",
        "2. masked multihead attention + add & norm\n",
        "3. feedfoward + add & norm"
      ],
      "metadata": {
        "id": "yQl1oGQAsnw9"
      }
    },
    {
      "cell_type": "code",
      "source": [
        "class InputEmbedding(nn.Module):\n",
        "    def __init__(self, d_model, vocab_size):\n",
        "        # d_model tamanho do vetor para cada palavra após o embedding\n",
        "        # vocab_size tokens com o dataset de sentence pairs\n",
        "        super().__init__():\n",
        "        self.d_model = d_model\n",
        "        self.vocab_size = vocab_size\n",
        "        self.embedding = nn.Embedding(self.d_model, self.vocab_size)\n",
        "\n",
        "    def foward(self, x):\n",
        "        return self.embedding(x) *  np.sqrt(self.d_model) # !!não aceita diretamente texto, precisa de que seja transfromado em valores numéricos\n"
      ],
      "metadata": {
        "id": "hrFLwYoyAlj6"
      },
      "execution_count": null,
      "outputs": []
    },
    {
      "cell_type": "code",
      "source": [
        "class PositionalEncoding(nn.Module):\n",
        "    def __init__(self, d_model, seq_len, dropout):\n",
        "        # d_model é o tamanho do vetor para cada ser somado a palavra (tamanho embedding)\n",
        "            # attention is all you need = 512\n",
        "        # seq_len é o tamanho da sentença do input\n",
        "            # attention is all you need usou sentence pairs de aproximadamente 25k tokens\n",
        "        # dropout é a regularização usada\n",
        "            # p = 0.1 no attention is all you need\n",
        "        super().__init__()\n",
        "        self.d_model = d_model\n",
        "        self.seq_len = seq_len\n",
        "        self.dropout = nn.Dropout(dropout)\n",
        "\n",
        "\n"
      ],
      "metadata": {
        "colab": {
          "base_uri": "https://localhost:8080/"
        },
        "id": "yL77otwLb5Tw",
        "outputId": "e2a2cfb9-3788-4419-f2d3-8a92cf16a942"
      },
      "execution_count": 30,
      "outputs": [
        {
          "output_type": "execute_result",
          "data": {
            "text/plain": [
              "2.23606797749979"
            ]
          },
          "metadata": {},
          "execution_count": 30
        }
      ]
    }
  ]
}